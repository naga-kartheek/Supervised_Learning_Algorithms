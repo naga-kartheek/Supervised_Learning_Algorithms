{
 "cells": [
  {
   "cell_type": "markdown",
   "id": "bb83e807",
   "metadata": {},
   "source": [
    "### Programming Assignment - 1\n",
    "### Logistic Regression\n",
    "#### Naga Kartheek Peddisetty, 50538422"
   ]
  },
  {
   "cell_type": "code",
   "execution_count": 2,
   "id": "d54612ee",
   "metadata": {},
   "outputs": [],
   "source": [
    "import numpy as np\n",
    "import pandas as pd\n",
    "from sklearn.datasets import load_iris\n",
    "from sklearn.model_selection import train_test_split\n",
    "from sklearn.preprocessing import StandardScaler\n",
    "from sklearn.metrics import accuracy_score, precision_score, recall_score, f1_score, confusion_matrix\n",
    "import matplotlib.pyplot as plt"
   ]
  },
  {
   "cell_type": "markdown",
   "id": "f917230b",
   "metadata": {},
   "source": [
    "####  The class is logistic regression. Initializing an instance of the class with two optional parameters learning rate and number of iterations.\n",
    "#### Sigmoid function:\n",
    "#### sigmoid = 1 / (1 + e^-z)\n",
    "#### For Logistic Regression\n",
    "#### z = w.T * x + b ; Here w = weight and b = bias\n",
    "\n",
    "#### The fit method trains the logistic regression model using Stochastic Gradient Descent optimization algorithm. It takes the input features 'X' and target 'y'.\n",
    "#### Iterates over the data for a number of iterations and updates the weights and bias at each step to minimize the logistic loss function.\n",
    "#### dw and db computes the weights and bias with respect to loss.\n",
    "#### 'loss' calculates the loss using log loss function.\n",
    "#### log loss = $ \\sum $[-(y * log(y_pred) + (1 - y) * log(1 - y_pred))]\n",
    "\n",
    "#### Predict_prob function predicts the probability.\n",
    "#### Probability (P) =  1 / (1 + e^-(w.T * x + b))\n",
    "#### And predict method is used to predict the class labels, creates an array where assigning each element as 1 if the probability p is greater than 0.5, and 0 otherwise."
   ]
  },
  {
   "cell_type": "code",
   "execution_count": 3,
   "id": "c6b1410a",
   "metadata": {},
   "outputs": [],
   "source": [
    "class LogisticRegression:\n",
    "    def __init__(self, learning_rate=0.01, n_iterations=1000):\n",
    "        self.learning_rate = learning_rate\n",
    "        self.n_iterations = n_iterations\n",
    "        self.weights = None\n",
    "        self.bias = None\n",
    "        self.l = []    ### empty list to store loss values during training for each iteration.\n",
    "        \n",
    "    def sigmoid(self, z):\n",
    "        return 1 / (1 + np.exp(-z))\n",
    "    \n",
    "    def fit(self, X, y):\n",
    "        n_observations, n_features = X.shape\n",
    "        self.weights = np.zeros(n_features)\n",
    "        self.bias = 0\n",
    "        \n",
    "        for _ in range(self.n_iterations):\n",
    "            loss = 0\n",
    "            for i in range(n_observations):\n",
    "                y_pred = self.sigmoid(np.dot(X[i], self.weights) + self.bias)\n",
    "                \n",
    "                dw = np.dot(X[i].T, (y_pred - y[i]))\n",
    "                db = (y_pred - y[i])\n",
    "                \n",
    "                self.weights -= self.learning_rate * dw\n",
    "                self.bias -= self.learning_rate * db\n",
    "                \n",
    "                # Calculating loss using log loss function\n",
    "                loss += -(y[i] * np.log(y_pred) + (1 - y[i]) * np.log(1 - y_pred))\n",
    "            \n",
    "            self.l.append(loss / n_observations)\n",
    "            \n",
    "    def predict_proba(self, X):\n",
    "        return self.sigmoid(np.dot(X, self.weights) + self.bias)\n",
    "    \n",
    "    def predict(self, X):\n",
    "        p = self.predict_proba(X)\n",
    "        return np.array([1 if i > 0.5 else 0 for i in p])"
   ]
  },
  {
   "cell_type": "markdown",
   "id": "97f86e74",
   "metadata": {},
   "source": [
    "#### Defining a class LogisticRegression_OR  to implement OneVsRest logistic regression for multiclass classification by training a binary classifier for each class. \n",
    "#### Because the target variable 'y' has 3 classes 'setosa', 'virginica', and 'versicolor'."
   ]
  },
  {
   "cell_type": "code",
   "execution_count": 4,
   "id": "88205ef2",
   "metadata": {},
   "outputs": [],
   "source": [
    "class LogisticRegression_OR:\n",
    "    def __init__(self, learning_rate=0.01, n_iterations=1000):\n",
    "        self.models = []\n",
    "        self.learning_rate = learning_rate\n",
    "        self.n_iterations = n_iterations\n",
    "        \n",
    "    def fit(self, X, y):\n",
    "        self.c = np.unique(y)\n",
    "        for j in self.c:\n",
    "            y_bin = np.where(y == j, 1, 0)\n",
    "            model = LogisticRegression(self.learning_rate, self.n_iterations)\n",
    "            model.fit(X, y_bin)\n",
    "            self.models.append(model)\n",
    "    \n",
    "    def predict(self, X):\n",
    "        prob = np.array([model.predict_proba(X) for model in self.models]).T\n",
    "        return np.argmax(prob, axis=1)"
   ]
  },
  {
   "cell_type": "code",
   "execution_count": 5,
   "id": "5794e75a",
   "metadata": {},
   "outputs": [
    {
     "name": "stdout",
     "output_type": "stream",
     "text": [
      "Dimension of X:  (150, 4)\n",
      "Dimension of y:  (150,)\n",
      "\n",
      "Top 5 rows of the dataset:\n"
     ]
    },
    {
     "data": {
      "text/html": [
       "<div>\n",
       "<style scoped>\n",
       "    .dataframe tbody tr th:only-of-type {\n",
       "        vertical-align: middle;\n",
       "    }\n",
       "\n",
       "    .dataframe tbody tr th {\n",
       "        vertical-align: top;\n",
       "    }\n",
       "\n",
       "    .dataframe thead th {\n",
       "        text-align: right;\n",
       "    }\n",
       "</style>\n",
       "<table border=\"1\" class=\"dataframe\">\n",
       "  <thead>\n",
       "    <tr style=\"text-align: right;\">\n",
       "      <th></th>\n",
       "      <th>sepal length (cm)</th>\n",
       "      <th>sepal width (cm)</th>\n",
       "      <th>petal length (cm)</th>\n",
       "      <th>petal width (cm)</th>\n",
       "      <th>species</th>\n",
       "    </tr>\n",
       "  </thead>\n",
       "  <tbody>\n",
       "    <tr>\n",
       "      <th>0</th>\n",
       "      <td>5.1</td>\n",
       "      <td>3.5</td>\n",
       "      <td>1.4</td>\n",
       "      <td>0.2</td>\n",
       "      <td>0</td>\n",
       "    </tr>\n",
       "    <tr>\n",
       "      <th>1</th>\n",
       "      <td>4.9</td>\n",
       "      <td>3.0</td>\n",
       "      <td>1.4</td>\n",
       "      <td>0.2</td>\n",
       "      <td>0</td>\n",
       "    </tr>\n",
       "    <tr>\n",
       "      <th>2</th>\n",
       "      <td>4.7</td>\n",
       "      <td>3.2</td>\n",
       "      <td>1.3</td>\n",
       "      <td>0.2</td>\n",
       "      <td>0</td>\n",
       "    </tr>\n",
       "    <tr>\n",
       "      <th>3</th>\n",
       "      <td>4.6</td>\n",
       "      <td>3.1</td>\n",
       "      <td>1.5</td>\n",
       "      <td>0.2</td>\n",
       "      <td>0</td>\n",
       "    </tr>\n",
       "    <tr>\n",
       "      <th>4</th>\n",
       "      <td>5.0</td>\n",
       "      <td>3.6</td>\n",
       "      <td>1.4</td>\n",
       "      <td>0.2</td>\n",
       "      <td>0</td>\n",
       "    </tr>\n",
       "  </tbody>\n",
       "</table>\n",
       "</div>"
      ],
      "text/plain": [
       "   sepal length (cm)  sepal width (cm)  petal length (cm)  petal width (cm)  \\\n",
       "0                5.1               3.5                1.4               0.2   \n",
       "1                4.9               3.0                1.4               0.2   \n",
       "2                4.7               3.2                1.3               0.2   \n",
       "3                4.6               3.1                1.5               0.2   \n",
       "4                5.0               3.6                1.4               0.2   \n",
       "\n",
       "   species  \n",
       "0        0  \n",
       "1        0  \n",
       "2        0  \n",
       "3        0  \n",
       "4        0  "
      ]
     },
     "metadata": {},
     "output_type": "display_data"
    },
    {
     "name": "stdout",
     "output_type": "stream",
     "text": [
      "\n",
      " Summary of the dataset:\n"
     ]
    },
    {
     "data": {
      "text/html": [
       "<div>\n",
       "<style scoped>\n",
       "    .dataframe tbody tr th:only-of-type {\n",
       "        vertical-align: middle;\n",
       "    }\n",
       "\n",
       "    .dataframe tbody tr th {\n",
       "        vertical-align: top;\n",
       "    }\n",
       "\n",
       "    .dataframe thead th {\n",
       "        text-align: right;\n",
       "    }\n",
       "</style>\n",
       "<table border=\"1\" class=\"dataframe\">\n",
       "  <thead>\n",
       "    <tr style=\"text-align: right;\">\n",
       "      <th></th>\n",
       "      <th>sepal length (cm)</th>\n",
       "      <th>sepal width (cm)</th>\n",
       "      <th>petal length (cm)</th>\n",
       "      <th>petal width (cm)</th>\n",
       "      <th>species</th>\n",
       "    </tr>\n",
       "  </thead>\n",
       "  <tbody>\n",
       "    <tr>\n",
       "      <th>count</th>\n",
       "      <td>150.000000</td>\n",
       "      <td>150.000000</td>\n",
       "      <td>150.000000</td>\n",
       "      <td>150.000000</td>\n",
       "      <td>150.000000</td>\n",
       "    </tr>\n",
       "    <tr>\n",
       "      <th>mean</th>\n",
       "      <td>5.843333</td>\n",
       "      <td>3.057333</td>\n",
       "      <td>3.758000</td>\n",
       "      <td>1.199333</td>\n",
       "      <td>1.000000</td>\n",
       "    </tr>\n",
       "    <tr>\n",
       "      <th>std</th>\n",
       "      <td>0.828066</td>\n",
       "      <td>0.435866</td>\n",
       "      <td>1.765298</td>\n",
       "      <td>0.762238</td>\n",
       "      <td>0.819232</td>\n",
       "    </tr>\n",
       "    <tr>\n",
       "      <th>min</th>\n",
       "      <td>4.300000</td>\n",
       "      <td>2.000000</td>\n",
       "      <td>1.000000</td>\n",
       "      <td>0.100000</td>\n",
       "      <td>0.000000</td>\n",
       "    </tr>\n",
       "    <tr>\n",
       "      <th>25%</th>\n",
       "      <td>5.100000</td>\n",
       "      <td>2.800000</td>\n",
       "      <td>1.600000</td>\n",
       "      <td>0.300000</td>\n",
       "      <td>0.000000</td>\n",
       "    </tr>\n",
       "    <tr>\n",
       "      <th>50%</th>\n",
       "      <td>5.800000</td>\n",
       "      <td>3.000000</td>\n",
       "      <td>4.350000</td>\n",
       "      <td>1.300000</td>\n",
       "      <td>1.000000</td>\n",
       "    </tr>\n",
       "    <tr>\n",
       "      <th>75%</th>\n",
       "      <td>6.400000</td>\n",
       "      <td>3.300000</td>\n",
       "      <td>5.100000</td>\n",
       "      <td>1.800000</td>\n",
       "      <td>2.000000</td>\n",
       "    </tr>\n",
       "    <tr>\n",
       "      <th>max</th>\n",
       "      <td>7.900000</td>\n",
       "      <td>4.400000</td>\n",
       "      <td>6.900000</td>\n",
       "      <td>2.500000</td>\n",
       "      <td>2.000000</td>\n",
       "    </tr>\n",
       "  </tbody>\n",
       "</table>\n",
       "</div>"
      ],
      "text/plain": [
       "       sepal length (cm)  sepal width (cm)  petal length (cm)  \\\n",
       "count         150.000000        150.000000         150.000000   \n",
       "mean            5.843333          3.057333           3.758000   \n",
       "std             0.828066          0.435866           1.765298   \n",
       "min             4.300000          2.000000           1.000000   \n",
       "25%             5.100000          2.800000           1.600000   \n",
       "50%             5.800000          3.000000           4.350000   \n",
       "75%             6.400000          3.300000           5.100000   \n",
       "max             7.900000          4.400000           6.900000   \n",
       "\n",
       "       petal width (cm)     species  \n",
       "count        150.000000  150.000000  \n",
       "mean           1.199333    1.000000  \n",
       "std            0.762238    0.819232  \n",
       "min            0.100000    0.000000  \n",
       "25%            0.300000    0.000000  \n",
       "50%            1.300000    1.000000  \n",
       "75%            1.800000    2.000000  \n",
       "max            2.500000    2.000000  "
      ]
     },
     "metadata": {},
     "output_type": "display_data"
    }
   ],
   "source": [
    "# Load and prepare the dataset\n",
    "\n",
    "iris = load_iris()\n",
    "X = iris.data\n",
    "y = iris.target\n",
    "\n",
    "print('Dimension of X: ', X.shape)\n",
    "print('Dimension of y: ', y.shape)\n",
    "\n",
    "# For visualization purpose using pandas dataframe\n",
    "\n",
    "x1 = pd.DataFrame(iris['data'], columns=iris['feature_names']) \n",
    "y1 = pd.DataFrame(iris['target'], columns=['species'])\n",
    "\n",
    "df = pd.concat([x1, y1], axis=1)\n",
    "\n",
    "print('\\nTop 5 rows of the dataset:')\n",
    "display(df.head(5))\n",
    "print(\"\\n Summary of the dataset:\")\n",
    "display(df.describe())"
   ]
  },
  {
   "cell_type": "markdown",
   "id": "39a70b6f",
   "metadata": {},
   "source": [
    "#### Splitting the dataset"
   ]
  },
  {
   "cell_type": "code",
   "execution_count": 6,
   "id": "9ed76944",
   "metadata": {},
   "outputs": [
    {
     "name": "stdout",
     "output_type": "stream",
     "text": [
      "Dimension of X_train:  (120, 4)\n",
      "Dimension of X_test:  (30, 4)\n",
      "Dimension of y_train:  (120,)\n",
      "Dimension of y_test:  (30,)\n"
     ]
    }
   ],
   "source": [
    "X_train, X_test, y_train, y_test = train_test_split(X, y, test_size=0.2, random_state=123)\n",
    "\n",
    "print('Dimension of X_train: ', X_train.shape)\n",
    "print('Dimension of X_test: ', X_test.shape)\n",
    "print('Dimension of y_train: ', y_train.shape)\n",
    "print('Dimension of y_test: ', y_test.shape)"
   ]
  },
  {
   "cell_type": "code",
   "execution_count": 7,
   "id": "934a9deb",
   "metadata": {},
   "outputs": [
    {
     "name": "stdout",
     "output_type": "stream",
     "text": [
      "Dimension of y_train_pred:  (120,)\n",
      "Dimension of y_test_pred:  (30,)\n"
     ]
    }
   ],
   "source": [
    "# Scale the features\n",
    "s = StandardScaler()\n",
    "X_train_scaled = s.fit_transform(X_train)\n",
    "X_test_scaled = s.transform(X_test)\n",
    "\n",
    "# Initialize and train the logistic regression model with OvR strategy\n",
    "log_model = LogisticRegression_OR(learning_rate=0.01, n_iterations=1000)\n",
    "log_model.fit(X_train_scaled, y_train)\n",
    "\n",
    "# Make predictions on train and test data\n",
    "y_train_pred = log_model.predict(X_train_scaled)\n",
    "y_test_pred = log_model.predict(X_test_scaled)\n",
    "\n",
    "print('Dimension of y_train_pred: ', y_train_pred.shape)\n",
    "print('Dimension of y_test_pred: ', y_test_pred.shape)"
   ]
  },
  {
   "cell_type": "markdown",
   "id": "866375c5",
   "metadata": {},
   "source": [
    "### Evaluation metrics:"
   ]
  },
  {
   "cell_type": "code",
   "execution_count": 8,
   "id": "3adc294d",
   "metadata": {},
   "outputs": [
    {
     "name": "stdout",
     "output_type": "stream",
     "text": [
      "Confusion Matrix for train:\n",
      " [[37  0  0]\n",
      " [ 0 41  3]\n",
      " [ 0  2 37]]\n",
      "train accuracy: 95.83 %\n",
      "train precision: 95.95 %\n",
      "train recall: 96.02 %\n",
      "train F1 score: 95.97 %\n",
      "------------------------------------\n",
      "Confusion Matrix for test:\n",
      " [[13  0  0]\n",
      " [ 0  6  0]\n",
      " [ 0  1 10]]\n",
      "test accuracy: 96.67 %\n",
      "test precision: 95.24 %\n",
      "test recall: 96.97 %\n",
      "test F1 score: 95.85 %\n"
     ]
    }
   ],
   "source": [
    "#### For train data\n",
    "## macro will calculate the metrics for individual class and then average all classes.\n",
    "\n",
    "train_conf_matr = confusion_matrix(y_train,y_train_pred)\n",
    "train_accuracy = accuracy_score(y_train, y_train_pred)\n",
    "train_precision = precision_score(y_train, y_train_pred, average='macro') \n",
    "train_recall = recall_score(y_train, y_train_pred, average='macro')\n",
    "train_f1 = f1_score(y_train, y_train_pred, average='macro')\n",
    "\n",
    "print(\"Confusion Matrix for train:\\n\", train_conf_matr)\n",
    "print(f\"train accuracy: {train_accuracy * 100:.2f} %\")\n",
    "print(f\"train precision: {train_precision * 100:.2f} %\")\n",
    "print(f\"train recall: {train_recall * 100:.2f} %\")\n",
    "print(f\"train F1 score: {train_f1 * 100:.2f} %\")\n",
    "\n",
    "#### For test data\n",
    "\n",
    "test_confusion_mat = confusion_matrix(y_test,y_test_pred)\n",
    "test_accuracy = accuracy_score(y_test, y_test_pred)\n",
    "test_precision = precision_score(y_test, y_test_pred, average='macro')\n",
    "test_recall = recall_score(y_test, y_test_pred, average='macro')\n",
    "test_f1 = f1_score(y_test, y_test_pred, average='macro')\n",
    "\n",
    "print('------------------------------------')\n",
    "print(\"Confusion Matrix for test:\\n\", test_confusion_mat)\n",
    "print(f\"test accuracy: {test_accuracy * 100:.2f} %\")\n",
    "print(f\"test precision: {test_precision * 100:.2f} %\")\n",
    "print(f\"test recall: {test_recall * 100:.2f} %\")\n",
    "print(f\"test F1 score: {test_f1 * 100:.2f} %\")"
   ]
  },
  {
   "cell_type": "code",
   "execution_count": 9,
   "id": "4d05e9a1",
   "metadata": {},
   "outputs": [
    {
     "data": {
      "image/png": "[encoded data removed]",
      "text/plain": [
       "<Figure size 640x480 with 1 Axes>"
      ]
     },
     "metadata": {},
     "output_type": "display_data"
    }
   ],
   "source": [
    "# Plot loss for the first 20 iterations\n",
    "plt.plot(range(1, 21), log_model.models[0].l[:20])\n",
    "plt.title('Loss for the First 20 Iterations')\n",
    "plt.xlabel('Iterations')\n",
    "plt.ylabel('Loss')\n",
    "plt.show()"
   ]
  },
  {
   "cell_type": "markdown",
   "id": "29816eb0",
   "metadata": {},
   "source": [
    "### Plotting the Decision boundary using two features"
   ]
  },
  {
   "cell_type": "code",
   "execution_count": 10,
   "id": "81587392",
   "metadata": {},
   "outputs": [
    {
     "data": {
      "image/png": "[encoded data removed]",
      "text/plain": [
       "<Figure size 640x480 with 1 Axes>"
      ]
     },
     "metadata": {},
     "output_type": "display_data"
    }
   ],
   "source": [
    "iris = load_iris()\n",
    "X = iris.data[:, :2]\n",
    "y = iris.target\n",
    "\n",
    "X_train, X_test, y_train, y_test = train_test_split(X, y, test_size=0.2, random_state=123)\n",
    "\n",
    "# Scale the features\n",
    "s = StandardScaler()\n",
    "X_train_scaled = s.fit_transform(X_train)\n",
    "X_test_scaled = s.transform(X_test)\n",
    "\n",
    "# Initialize and train the logistic regression model with OvR strategy\n",
    "log_model = LogisticRegression_OR(learning_rate=0.01, n_iterations=1000)\n",
    "log_model.fit(X_train_scaled, y_train)\n",
    "\n",
    "y_test_pred = log_model.predict(X_test_scaled)\n",
    "\n",
    "# Define a function to plot linear decision boundary\n",
    "def logistic_decision_boundary(X, y, model):\n",
    "    \n",
    "    colors = ['blue', 'green', 'violet']\n",
    "    # Plot the training points\n",
    "    for i, col in zip(np.unique(y), colors):\n",
    "        plt.scatter(X[y == i, 0], X[y == i, 1], c=col, edgecolor='k', label=f'Class {i}')\n",
    "        \n",
    "    # Plot the decision boundary\n",
    "    x_min, x_max = X[:, 0].min() - 1, X[:, 0].max() + 1\n",
    "    y_min, y_max = X[:, 1].min() - 1, X[:, 1].max() + 1\n",
    "    e, f = np.meshgrid(np.arange(x_min, x_max, 0.01), np.arange(y_min, y_max, 0.01))\n",
    "    Z = model.predict(np.c_[e.ravel(), f.ravel()])\n",
    "    Z = Z.reshape(e.shape)\n",
    "    \n",
    "    plt.contourf(e, f, Z, alpha=0.2, cmap=plt.cm.YlGnBu)\n",
    "    plt.xlabel('Sepal Length (cm)')\n",
    "    plt.ylabel('Sepal Width (cm)')\n",
    "    plt.title('Logistic Regression Decision Boundary')\n",
    "    plt.legend(title='Class')\n",
    "    plt.savefig('C:/Users/nagak/Downloads/Programming Assignment - 1/logistic_regression_Plot.png')  ### To save the plot\n",
    "    plt.show()\n",
    "    \n",
    "logistic_decision_boundary(X_train_scaled, y_train, log_model)"
   ]
  }
 ],
 "metadata": {
  "kernelspec": {
   "display_name": "Python 3 (ipykernel)",
   "language": "python",
   "name": "python3"
  },
  "language_info": {
   "codemirror_mode": {
    "name": "ipython",
    "version": 3
   },
   "file_extension": ".py",
   "mimetype": "text/x-python",
   "name": "python",
   "nbconvert_exporter": "python",
   "pygments_lexer": "ipython3",
   "version": "3.11.8"
  }
 },
 "nbformat": 4,
 "nbformat_minor": 5
}
