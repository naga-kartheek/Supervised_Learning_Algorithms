{
 "cells": [
  {
   "cell_type": "code",
   "execution_count": 17,
   "id": "403d8cb0",
   "metadata": {},
   "outputs": [],
   "source": [
    "import numpy as np\n",
    "import matplotlib.pyplot as plt\n",
    "import pandas as pd\n",
    "from sklearn.datasets import load_iris\n",
    "from sklearn.model_selection import train_test_split\n",
    "from sklearn.preprocessing import StandardScaler\n",
    "from sklearn.metrics import accuracy_score, precision_score, recall_score, f1_score, confusion_matrix"
   ]
  },
  {
   "cell_type": "markdown",
   "id": "a5b78bac",
   "metadata": {},
   "source": [
    "#### The class is LinearSVM. Initializing an instance of the class with three hyper parameters learning rate, lambda and number of iterations. \n",
    "\n",
    "#### Fit method is used to train the linear SVM model using gradient descent optimization algorithm. It iterates over the data for a fixed number of iterations (n_iters). For each iteration, it calculates the loss based on the loss function and updates the weights (w) and bias (b) accordingly. \n",
    "\n",
    "#### Decision function is used to make the decisions for the trained SVM model. Calculates the dot product of the input features and the weight vector, subtracts the bias term.\n",
    "\n",
    "#### Predict function predicts the class labels for the input data based on the sign of the output of the decision function. If the output is positive, it predicts one class otherwise, it predicts the other class."
   ]
  },
  {
   "cell_type": "code",
   "execution_count": 18,
   "id": "e3faf356",
   "metadata": {},
   "outputs": [],
   "source": [
    "class LinearSVM:\n",
    "    def __init__(self, learning_rate=0.001, lambda_param=0.01, n_iters=1000):\n",
    "        self.lr = learning_rate\n",
    "        self.lambda_param = lambda_param\n",
    "        self.n_iters = n_iters\n",
    "        self.w = None\n",
    "        self.b = None\n",
    "        self.l = []\n",
    "        \n",
    "    def fit(self, X, y):\n",
    "        n_observations, n_features = X.shape\n",
    "        self.w = np.zeros(n_features)\n",
    "        self.b = 0\n",
    "\n",
    "        y1 = np.where(y <= 0, -1, 1)   #### Using to convert class labels into binary levels\n",
    "        \n",
    "        for _ in range(self.n_iters):\n",
    "            loss = 0\n",
    "            for i, xi in enumerate(X):\n",
    "                if (y1[i] * (np.dot(xi, self.w) - self.b) >= 1):\n",
    "                    self.w -= self.lr * (2 * self.lambda_param * self.w)\n",
    "                else:\n",
    "                    self.w -= self.lr * (2 * self.lambda_param * self.w - np.dot(xi, y1[i]))\n",
    "                    self.b -= self.lr * y1[i]\n",
    "                    loss += 1 - y1[i] * (np.dot(xi, self.w) - self.b)\n",
    "                    \n",
    "            # Adding L2 (Ridge) regularization term to update weights\n",
    "            \n",
    "            self.w -= self.lr * self.lambda_param * self.w\n",
    "            self.l.append(loss)\n",
    "\n",
    "    def decision_fun(self, X):\n",
    "        return np.dot(X, self.w) - self.b\n",
    "\n",
    "    def predict(self, X):\n",
    "        a = np.dot(X, self.w) - self.b\n",
    "        return np.sign(a)"
   ]
  },
  {
   "cell_type": "markdown",
   "id": "79cd78ee",
   "metadata": {},
   "source": [
    "#### Function to predict using One-vs-Rest strategy takes a list of models and input data X and returns the predicted class labels and decision values."
   ]
  },
  {
   "cell_type": "code",
   "execution_count": 19,
   "id": "a4cf164e",
   "metadata": {},
   "outputs": [],
   "source": [
    "def predict_ovr(models, X):\n",
    "    decision_values = np.array([model.decision_fun(X) for model in models]).T\n",
    "    predictions = np.argmax(decision_values, axis=1)\n",
    "    return predictions, decision_values"
   ]
  },
  {
   "cell_type": "code",
   "execution_count": 20,
   "id": "1c18c42a",
   "metadata": {
    "scrolled": true
   },
   "outputs": [
    {
     "name": "stdout",
     "output_type": "stream",
     "text": [
      "Dimension of X:  (150, 4)\n",
      "Dimension of y:  (150,)\n",
      "\n",
      "Top 5 rows of the dataset:\n"
     ]
    },
    {
     "data": {
      "text/html": [
       "<div>\n",
       "<style scoped>\n",
       "    .dataframe tbody tr th:only-of-type {\n",
       "        vertical-align: middle;\n",
       "    }\n",
       "\n",
       "    .dataframe tbody tr th {\n",
       "        vertical-align: top;\n",
       "    }\n",
       "\n",
       "    .dataframe thead th {\n",
       "        text-align: right;\n",
       "    }\n",
       "</style>\n",
       "<table border=\"1\" class=\"dataframe\">\n",
       "  <thead>\n",
       "    <tr style=\"text-align: right;\">\n",
       "      <th></th>\n",
       "      <th>sepal length (cm)</th>\n",
       "      <th>sepal width (cm)</th>\n",
       "      <th>petal length (cm)</th>\n",
       "      <th>petal width (cm)</th>\n",
       "      <th>species</th>\n",
       "    </tr>\n",
       "  </thead>\n",
       "  <tbody>\n",
       "    <tr>\n",
       "      <th>0</th>\n",
       "      <td>5.1</td>\n",
       "      <td>3.5</td>\n",
       "      <td>1.4</td>\n",
       "      <td>0.2</td>\n",
       "      <td>0</td>\n",
       "    </tr>\n",
       "    <tr>\n",
       "      <th>1</th>\n",
       "      <td>4.9</td>\n",
       "      <td>3.0</td>\n",
       "      <td>1.4</td>\n",
       "      <td>0.2</td>\n",
       "      <td>0</td>\n",
       "    </tr>\n",
       "    <tr>\n",
       "      <th>2</th>\n",
       "      <td>4.7</td>\n",
       "      <td>3.2</td>\n",
       "      <td>1.3</td>\n",
       "      <td>0.2</td>\n",
       "      <td>0</td>\n",
       "    </tr>\n",
       "    <tr>\n",
       "      <th>3</th>\n",
       "      <td>4.6</td>\n",
       "      <td>3.1</td>\n",
       "      <td>1.5</td>\n",
       "      <td>0.2</td>\n",
       "      <td>0</td>\n",
       "    </tr>\n",
       "    <tr>\n",
       "      <th>4</th>\n",
       "      <td>5.0</td>\n",
       "      <td>3.6</td>\n",
       "      <td>1.4</td>\n",
       "      <td>0.2</td>\n",
       "      <td>0</td>\n",
       "    </tr>\n",
       "  </tbody>\n",
       "</table>\n",
       "</div>"
      ],
      "text/plain": [
       "   sepal length (cm)  sepal width (cm)  petal length (cm)  petal width (cm)  \\\n",
       "0                5.1               3.5                1.4               0.2   \n",
       "1                4.9               3.0                1.4               0.2   \n",
       "2                4.7               3.2                1.3               0.2   \n",
       "3                4.6               3.1                1.5               0.2   \n",
       "4                5.0               3.6                1.4               0.2   \n",
       "\n",
       "   species  \n",
       "0        0  \n",
       "1        0  \n",
       "2        0  \n",
       "3        0  \n",
       "4        0  "
      ]
     },
     "metadata": {},
     "output_type": "display_data"
    },
    {
     "name": "stdout",
     "output_type": "stream",
     "text": [
      "\n",
      " Summary of the dataset:\n"
     ]
    },
    {
     "data": {
      "text/html": [
       "<div>\n",
       "<style scoped>\n",
       "    .dataframe tbody tr th:only-of-type {\n",
       "        vertical-align: middle;\n",
       "    }\n",
       "\n",
       "    .dataframe tbody tr th {\n",
       "        vertical-align: top;\n",
       "    }\n",
       "\n",
       "    .dataframe thead th {\n",
       "        text-align: right;\n",
       "    }\n",
       "</style>\n",
       "<table border=\"1\" class=\"dataframe\">\n",
       "  <thead>\n",
       "    <tr style=\"text-align: right;\">\n",
       "      <th></th>\n",
       "      <th>sepal length (cm)</th>\n",
       "      <th>sepal width (cm)</th>\n",
       "      <th>petal length (cm)</th>\n",
       "      <th>petal width (cm)</th>\n",
       "      <th>species</th>\n",
       "    </tr>\n",
       "  </thead>\n",
       "  <tbody>\n",
       "    <tr>\n",
       "      <th>count</th>\n",
       "      <td>150.000000</td>\n",
       "      <td>150.000000</td>\n",
       "      <td>150.000000</td>\n",
       "      <td>150.000000</td>\n",
       "      <td>150.000000</td>\n",
       "    </tr>\n",
       "    <tr>\n",
       "      <th>mean</th>\n",
       "      <td>5.843333</td>\n",
       "      <td>3.057333</td>\n",
       "      <td>3.758000</td>\n",
       "      <td>1.199333</td>\n",
       "      <td>1.000000</td>\n",
       "    </tr>\n",
       "    <tr>\n",
       "      <th>std</th>\n",
       "      <td>0.828066</td>\n",
       "      <td>0.435866</td>\n",
       "      <td>1.765298</td>\n",
       "      <td>0.762238</td>\n",
       "      <td>0.819232</td>\n",
       "    </tr>\n",
       "    <tr>\n",
       "      <th>min</th>\n",
       "      <td>4.300000</td>\n",
       "      <td>2.000000</td>\n",
       "      <td>1.000000</td>\n",
       "      <td>0.100000</td>\n",
       "      <td>0.000000</td>\n",
       "    </tr>\n",
       "    <tr>\n",
       "      <th>25%</th>\n",
       "      <td>5.100000</td>\n",
       "      <td>2.800000</td>\n",
       "      <td>1.600000</td>\n",
       "      <td>0.300000</td>\n",
       "      <td>0.000000</td>\n",
       "    </tr>\n",
       "    <tr>\n",
       "      <th>50%</th>\n",
       "      <td>5.800000</td>\n",
       "      <td>3.000000</td>\n",
       "      <td>4.350000</td>\n",
       "      <td>1.300000</td>\n",
       "      <td>1.000000</td>\n",
       "    </tr>\n",
       "    <tr>\n",
       "      <th>75%</th>\n",
       "      <td>6.400000</td>\n",
       "      <td>3.300000</td>\n",
       "      <td>5.100000</td>\n",
       "      <td>1.800000</td>\n",
       "      <td>2.000000</td>\n",
       "    </tr>\n",
       "    <tr>\n",
       "      <th>max</th>\n",
       "      <td>7.900000</td>\n",
       "      <td>4.400000</td>\n",
       "      <td>6.900000</td>\n",
       "      <td>2.500000</td>\n",
       "      <td>2.000000</td>\n",
       "    </tr>\n",
       "  </tbody>\n",
       "</table>\n",
       "</div>"
      ],
      "text/plain": [
       "       sepal length (cm)  sepal width (cm)  petal length (cm)  \\\n",
       "count         150.000000        150.000000         150.000000   \n",
       "mean            5.843333          3.057333           3.758000   \n",
       "std             0.828066          0.435866           1.765298   \n",
       "min             4.300000          2.000000           1.000000   \n",
       "25%             5.100000          2.800000           1.600000   \n",
       "50%             5.800000          3.000000           4.350000   \n",
       "75%             6.400000          3.300000           5.100000   \n",
       "max             7.900000          4.400000           6.900000   \n",
       "\n",
       "       petal width (cm)     species  \n",
       "count        150.000000  150.000000  \n",
       "mean           1.199333    1.000000  \n",
       "std            0.762238    0.819232  \n",
       "min            0.100000    0.000000  \n",
       "25%            0.300000    0.000000  \n",
       "50%            1.300000    1.000000  \n",
       "75%            1.800000    2.000000  \n",
       "max            2.500000    2.000000  "
      ]
     },
     "metadata": {},
     "output_type": "display_data"
    }
   ],
   "source": [
    "# Load and prepare the dataset\n",
    "\n",
    "iris = load_iris()\n",
    "X = iris.data\n",
    "y = iris.target\n",
    "\n",
    "print('Dimension of X: ', X.shape)\n",
    "print('Dimension of y: ', y.shape)\n",
    "\n",
    "# For visualization purpose using pandas dataframe\n",
    "\n",
    "x1 = pd.DataFrame(iris['data'], columns=iris['feature_names']) \n",
    "y1 = pd.DataFrame(iris['target'], columns=['species'])\n",
    "\n",
    "df = pd.concat([x1, y1], axis=1)\n",
    "\n",
    "print('\\nTop 5 rows of the dataset:')\n",
    "display(df.head(5))\n",
    "print(\"\\n Summary of the dataset:\")\n",
    "display(df.describe())"
   ]
  },
  {
   "cell_type": "markdown",
   "id": "508e8d4a",
   "metadata": {},
   "source": [
    "#### Splitting the dataset"
   ]
  },
  {
   "cell_type": "code",
   "execution_count": 21,
   "id": "7d2d6f1c",
   "metadata": {},
   "outputs": [
    {
     "name": "stdout",
     "output_type": "stream",
     "text": [
      "Dimension of X_train:  (120, 4)\n",
      "Dimension of X_test:  (30, 4)\n",
      "Dimension of y_train:  (120,)\n",
      "Dimension of y_test:  (30,)\n"
     ]
    }
   ],
   "source": [
    "X_train, X_test, y_train, y_test = train_test_split(X, y, test_size=0.2, random_state=10)\n",
    "\n",
    "print('Dimension of X_train: ', X_train.shape)\n",
    "print('Dimension of X_test: ', X_test.shape)\n",
    "print('Dimension of y_train: ', y_train.shape)\n",
    "print('Dimension of y_test: ', y_test.shape)"
   ]
  },
  {
   "cell_type": "code",
   "execution_count": 23,
   "id": "291b2b78",
   "metadata": {},
   "outputs": [
    {
     "name": "stdout",
     "output_type": "stream",
     "text": [
      "Dimension of y_train_pred:  (120,)\n",
      "Dimension of y_test_pred:  (30,)\n"
     ]
    }
   ],
   "source": [
    "# Scale the features\n",
    "\n",
    "scaler = StandardScaler()\n",
    "X_train_scaled = scaler.fit_transform(X_train)\n",
    "X_test_scaled = scaler.transform(X_test)\n",
    "\n",
    "# Training one SVM model per each class and evaluating\n",
    "\n",
    "models = []\n",
    "for i in range(len(np.unique(y))):\n",
    "    y_train_ovr = np.where(y_train == i, 1, -1)\n",
    "    svm_model = LinearSVM()\n",
    "    svm_model.fit(X_train_scaled, y_train_ovr)\n",
    "    models.append(svm_model)\n",
    "\n",
    "# Make predictions using the OvR strategy for train and test set\n",
    "\n",
    "y_train_pred, decision_values = predict_ovr(models, X_train_scaled)\n",
    "y_test_pred, decision_values = predict_ovr(models, X_test_scaled)\n",
    "\n",
    "print('Dimension of y_train_pred: ', y_train_pred.shape)\n",
    "print('Dimension of y_test_pred: ', y_test_pred.shape)"
   ]
  },
  {
   "cell_type": "markdown",
   "id": "cf066e2d",
   "metadata": {},
   "source": [
    "### Evaluation Metrics:"
   ]
  },
  {
   "cell_type": "code",
   "execution_count": 25,
   "id": "537bba0e",
   "metadata": {},
   "outputs": [
    {
     "name": "stdout",
     "output_type": "stream",
     "text": [
      "Confusion Matrix for train:\n",
      " [[39  1  0]\n",
      " [ 0 29  8]\n",
      " [ 0  1 42]]\n",
      "train accuracy: 91.67 %\n",
      "train precision: 92.52 %\n",
      "train recall: 91.18 %\n",
      "train F1 score: 91.45 %\n",
      "------------------------------------\n",
      "Confusion Matrix for test:\n",
      " [[10  0  0]\n",
      " [ 0 11  2]\n",
      " [ 0  0  7]]\n",
      "test accuracy: 93.33 %\n",
      "test precision: 92.59 %\n",
      "test recall: 94.87 %\n",
      "test F1 score: 93.06 %\n"
     ]
    }
   ],
   "source": [
    "#### For train data\n",
    "## macro will calculate the metrics for individual class and then average all classes.\n",
    "\n",
    "train_conf_matr = confusion_matrix(y_train,y_train_pred)\n",
    "train_accuracy = accuracy_score(y_train, y_train_pred)\n",
    "train_precision = precision_score(y_train, y_train_pred, average='macro') \n",
    "train_recall = recall_score(y_train, y_train_pred, average='macro')\n",
    "train_f1 = f1_score(y_train, y_train_pred, average='macro')\n",
    "\n",
    "print(\"Confusion Matrix for train:\\n\", train_conf_matr)\n",
    "print(f\"train accuracy: {train_accuracy * 100:.2f} %\")\n",
    "print(f\"train precision: {train_precision * 100:.2f} %\")\n",
    "print(f\"train recall: {train_recall * 100:.2f} %\")\n",
    "print(f\"train F1 score: {train_f1 * 100:.2f} %\")\n",
    "\n",
    "#### For test data\n",
    "\n",
    "test_confusion_mat = confusion_matrix(y_test,y_test_pred)\n",
    "test_accuracy = accuracy_score(y_test, y_test_pred)\n",
    "test_precision = precision_score(y_test, y_test_pred, average='macro')\n",
    "test_recall = recall_score(y_test, y_test_pred, average='macro')\n",
    "test_f1 = f1_score(y_test, y_test_pred, average='macro')\n",
    "\n",
    "print('------------------------------------')\n",
    "print(\"Confusion Matrix for test:\\n\", test_confusion_mat)\n",
    "print(f\"test accuracy: {test_accuracy * 100:.2f} %\")\n",
    "print(f\"test precision: {test_precision * 100:.2f} %\")\n",
    "print(f\"test recall: {test_recall * 100:.2f} %\")\n",
    "print(f\"test F1 score: {test_f1 * 100:.2f} %\")"
   ]
  },
  {
   "cell_type": "code",
   "execution_count": 26,
   "id": "32e3a9bb",
   "metadata": {},
   "outputs": [
    {
     "data": {
      "image/png": "[encoded data removed]",
      "text/plain": [
       "<Figure size 640x480 with 1 Axes>"
      ]
     },
     "metadata": {},
     "output_type": "display_data"
    }
   ],
   "source": [
    "# Plotting the loss function for the first 20 iterations\n",
    "\n",
    "plt.plot(range(1, 21), models[0].l[:20])\n",
    "plt.title('Loss for the First 20 Iterations')\n",
    "plt.xlabel('Iterations')\n",
    "plt.ylabel('Loss')\n",
    "plt.show()"
   ]
  },
  {
   "cell_type": "markdown",
   "id": "454c664b",
   "metadata": {},
   "source": [
    "### Plotting the Decision Boundary using two features"
   ]
  },
  {
   "cell_type": "code",
   "execution_count": 28,
   "id": "148392a0",
   "metadata": {},
   "outputs": [
    {
     "data": {
      "image/png": "[encoded data removed]",
      "text/plain": [
       "<Figure size 640x480 with 1 Axes>"
      ]
     },
     "metadata": {},
     "output_type": "display_data"
    }
   ],
   "source": [
    "iris = load_iris()\n",
    "X = iris.data[:, :2]\n",
    "y = iris.target\n",
    "\n",
    "# Split the data into training and testing sets\n",
    "X_train, X_test, y_train, y_test = train_test_split(X, y, test_size=0.2, random_state=10)\n",
    "\n",
    "# Scale the features\n",
    "scaler = StandardScaler()\n",
    "X_train_scaled = scaler.fit_transform(X_train)\n",
    "X_test_scaled = scaler.transform(X_test)\n",
    "\n",
    "# Train a Linear SVM model\n",
    "svm_model = LinearSVC(dual = True)\n",
    "svm_model.fit(X_train_scaled, y_train)\n",
    "\n",
    "# Define a function to plot linear decision boundary\n",
    "def svm_decision_boundary(X, y, model):\n",
    "    \n",
    "    colors = ['blue', 'green', 'violet']\n",
    "    \n",
    "    # Create a scatter plot of the training points\n",
    "    for i, col in zip(np.unique(y), colors):\n",
    "        plt.scatter(X[y == i, 0], X[y == i, 1], c=col, edgecolor='k', label=f'Class {i}')\n",
    "        \n",
    "    # Plot the decision boundary\n",
    "    x_min, x_max = X[:, 0].min() - 1, X[:, 0].max() + 1\n",
    "    y_min, y_max = X[:, 1].min() - 1, X[:, 1].max() + 1\n",
    "    e, f = np.meshgrid(np.arange(x_min, x_max, 0.01), np.arange(y_min, y_max, 0.01))\n",
    "    Z = model.predict(np.c_[e.ravel(), f.ravel()])\n",
    "    Z = Z.reshape(e.shape)\n",
    "    \n",
    "    plt.contourf(e, f, Z, alpha=0.2, cmap=plt.cm.RdYlBu)\n",
    "    plt.xlabel('Sepal Length (cm)')\n",
    "    plt.ylabel('Sepal Width (cm)')\n",
    "    plt.title('SVM Decision Boundary')\n",
    "    plt.legend(title='Class')\n",
    "    plt.savefig('C:/Users/nagak/Downloads/Programming Assignment - 1/svm_Plot.png')  ### To save the plot\n",
    "    plt.show()\n",
    "\n",
    "svm_decision_boundary(X_train_scaled, y_train, svm_model)"
   ]
  }
 ],
 "metadata": {
  "kernelspec": {
   "display_name": "Python 3 (ipykernel)",
   "language": "python",
   "name": "python3"
  },
  "language_info": {
   "codemirror_mode": {
    "name": "ipython",
    "version": 3
   },
   "file_extension": ".py",
   "mimetype": "text/x-python",
   "name": "python",
   "nbconvert_exporter": "python",
   "pygments_lexer": "ipython3",
   "version": "3.11.5"
  }
 },
 "nbformat": 4,
 "nbformat_minor": 5
}
